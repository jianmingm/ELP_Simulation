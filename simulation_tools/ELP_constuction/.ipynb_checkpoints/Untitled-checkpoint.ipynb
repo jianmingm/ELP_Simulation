{
 "cells": [
  {
   "cell_type": "code",
   "execution_count": null,
   "id": "05ed6009-bb84-4e6e-ab04-fa0a583119c4",
   "metadata": {},
   "outputs": [],
   "source": [
    "from pymol import cmd\n",
    "\n",
    "sequence = \"ACDEFGHIKLMNPQRSTVWY\"\n",
    "cmd.fab(sequence)\n",
    "\n",
    "cmd.save(\"peptide.pdb\")"
   ]
  },
  {
   "cell_type": "code",
   "execution_count": null,
   "id": "98ac0a83-c2f5-4d0f-8097-a24cea3b91d3",
   "metadata": {},
   "outputs": [],
   "source": []
  }
 ],
 "metadata": {
  "kernelspec": {
   "display_name": "py3_pymol",
   "language": "python",
   "name": "py3_pymol"
  },
  "language_info": {
   "codemirror_mode": {
    "name": "ipython",
    "version": 3
   },
   "file_extension": ".py",
   "mimetype": "text/x-python",
   "name": "python",
   "nbconvert_exporter": "python",
   "pygments_lexer": "ipython3",
   "version": "3.12.2"
  }
 },
 "nbformat": 4,
 "nbformat_minor": 5
}
