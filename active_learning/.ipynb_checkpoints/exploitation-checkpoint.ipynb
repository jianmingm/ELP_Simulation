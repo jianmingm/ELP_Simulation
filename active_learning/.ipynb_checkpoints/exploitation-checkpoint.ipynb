{
 "cells": [
  {
   "cell_type": "code",
   "execution_count": null,
   "id": "875e396d",
   "metadata": {},
   "outputs": [],
   "source": [
    "import os\n",
    "import re\n",
    "import json\n",
    "\n",
    "import matplotlib.pyplot as plt\n",
    "import numpy as np\n",
    "import pandas as pd\n",
    "import torch\n",
    "\n",
    "\n",
    "from botorch import fit_gpytorch_mll\n",
    "from gpytorch.likelihoods import FixedNoiseGaussianLikelihood\n",
    "from gpytorch.mlls import ExactMarginalLogLikelihood\n",
    "from gpytorch import settings\n",
    "\n",
    "from gskgpr import GaussianStringKernelGP\n",
    "from seq2ascii import Seq2Ascii\n",
    "import pickle\n",
    "\n",
    "from botorch.acquisition import qUpperConfidenceBound\n",
    "from botorch.sampling import SobolQMCNormalSampler\n",
    "from botorch.optim.optimize import optimize_acqf_discrete\n",
    "\n",
    "\n"
   ]
  },
  {
   "cell_type": "code",
   "execution_count": null,
   "id": "97fe3e62-67c9-419b-ae49-33875ac3bf0d",
   "metadata": {},
   "outputs": [],
   "source": [
    "def initialize_model(train_x, train_y, err_y, translator,num_outputs):\n",
    "    model = GaussianStringKernelGP(train_x=train_x, train_y=train_y, \n",
    "                            likelihood=FixedNoiseGaussianLikelihood(noise=err_y), \n",
    "                            translator=translator, num_outputs=num_outputs)\n",
    "    mll = ExactMarginalLogLikelihood(model.likelihood, model).to(device)\n",
    "    return model, mll\n",
    "\n",
    "def append_star(name):\n",
    "    if len(name) == 45:\n",
    "        return name + '*****'\n",
    "    else:\n",
    "        return name\n"
   ]
  },
  {
   "cell_type": "code",
   "execution_count": null,
   "id": "dfe9447c-bfe1-4ce6-9355-d2c3a3023c28",
   "metadata": {},
   "outputs": [],
   "source": [
    "## Setting names and rounds\n",
    "Previous_Round = 23\n",
    "Current_Round = 24\n",
    "\n",
    "## Names for saving the models and training data\n",
    "training_sample_pickle_file = f'BO_sample_{Current_Round}.pickle'\n",
    "model_name = f'GPR_Model_{Current_Round}.pth'\n",
    "\n",
    "## Read data and library    \n",
    "ELP_all=pd.read_csv('./pickes/FE_all.csv')\n",
    "computed=pd.read_csv('./pickes/FE-latest.csv')\n",
    "\n",
    "dataset = ELP_all.merge(computed[['ELP', 'dG', 'dG_err']], on='ELP', how='left')\n",
    "dataset['Sequence'] = dataset['Sequence'].apply(append_star)\n"
   ]
  },
  {
   "cell_type": "markdown",
   "id": "e3631689-1016-4899-8a26-c95353bb75a8",
   "metadata": {},
   "source": [
    "### Fit a GPR model"
   ]
  },
  {
   "cell_type": "code",
   "execution_count": null,
   "id": "13c3b93e-5ba5-41cd-8db2-47a9a085ffee",
   "metadata": {},
   "outputs": [],
   "source": [
    "## Get translator\n",
    "translator = Seq2Ascii(\"./AA.blosum62.pckl\")\n",
    "fspace = dataset.Sequence.to_list()\n",
    "translator.fit(fspace)\n",
    "\n",
    "## save the training samples in this round\n",
    "dataset_train=dataset.dropna(subset=['dG'], inplace=False)\n",
    "BO_samples = dataset_train[['ELP', 'dG', 'dG_err']].values.tolist()\n",
    "with open(f'./pickles/training_samples/{training_sample_pickle_file}', 'wb') as f:\n",
    "    pickle.dump(BO_samples, f)\n",
    "\n",
    "## Get the mean and std\n",
    "train_mean=dataset_train['dG'].mean()\n",
    "train_std=dataset_train['dG'].std()\n",
    "\n",
    "## Normalization\n",
    "dataset_train.loc[:, 'dG_err'] = dataset_train['dG_err'] / train_std\n",
    "dataset_train.loc[:, 'dG'] = (dataset_train['dG'] - train_mean) / train_std\n",
    "dataset_train.loc[:, 'dG_var'] = dataset_train['dG_err']**2\n",
    "\n",
    "print('Fitting GPR')\n",
    "## encode, train and save model\n",
    "device='cpu'\n",
    "encoded_x = translator.encode_to_int(dataset_train.loc[:, 'Sequence'].to_list()).to(device)\n",
    "train_y = torch.tensor(dataset_train.dG.to_numpy()).float().to(device)\n",
    "err_y = torch.tensor(dataset_train.dG_var.to_numpy()).float().to(device)\n",
    "\n",
    "model, mll = initialize_model(encoded_x, train_y, err_y, translator, num_outputs=1)\n",
    "fit_gpytorch_mll(mll)\n",
    "print(f'Actual sigma1: {model.covar_module.sigma1.item()}')\n",
    "print(f'Actual sigma2: {model.covar_module.sigma2.item()}')\n",
    "torch.save(model.state_dict(), f'./pickles/models/{model_name}')\n",
    "\n",
    "## Prediction\n",
    "full_space = torch.as_tensor(list(translator.int2str.keys())).view(-1, 1).to(device)\n",
    "with torch.no_grad():\n",
    "    post = model.posterior(full_space)\n"
   ]
  },
  {
   "cell_type": "markdown",
   "id": "2ec20aff-6319-4793-adcf-debd34053b11",
   "metadata": {},
   "source": [
    "### Run an acquisition function"
   ]
  },
  {
   "cell_type": "code",
   "execution_count": null,
   "id": "30785c28",
   "metadata": {},
   "outputs": [],
   "source": [
    "print('Performing UCB for pure exploitation')\n",
    "## UCB\n",
    "choices = list(translator.int2str.keys())\n",
    "for i in dataset_train.Sequence: # remove the ones that are already in the training set\n",
    "    choices.remove(translator.str2int[i])\n",
    "choices = torch.Tensor(choices).view(-1, 1).to(device)\n",
    "\n",
    "best_value = train_y.max()\n",
    "\n",
    "sampler = SobolQMCNormalSampler(sample_shape=torch.Size([len(choices)]), seed=0)\n",
    "qUCB = qUpperConfidenceBound(model, 0, sampler=sampler)\n",
    "torch.manual_seed(seed=0)  # to keep the restart conditions the same\n",
    "\n",
    "new_point_mc, acqui_value = optimize_acqf_discrete(\n",
    "    acq_function=qUCB,\n",
    "    q=2,\n",
    "    choices=choices,\n",
    "    max_batch_size=len(choices),\n",
    "    unique=True)\n",
    "decoded_sequences=translator.decode(new_point_mc.squeeze())\n",
    "\n",
    "ELP_name = []\n",
    "for decoded_seq in decoded_sequences:\n",
    "    filtered_row = dataset.loc[dataset['Sequence'] == decoded_seq]\n",
    "    ELP_name.append(filtered_row['ELP'].item())\n",
    "print('Selected Candidates are ')\n",
    "print(ELP_name)\n",
    "\n",
    "with torch.no_grad():\n",
    "    post_candidates = model.posterior(new_point_mc.view(-1, 1))\n",
    "    post_candidates_mean=(post_candidates.mean.detach().numpy()*train_std+train_mean).reshape(-1)\n",
    "    post_candidates_std=(post_candidates.variance.sqrt().detach().numpy()*train_std).reshape(-1)\n",
    "    print(post_candidates_mean, post_candidates_std)\n"
   ]
  }
 ],
 "metadata": {
  "kernelspec": {
   "display_name": "Python 3 (ipykernel)",
   "language": "python",
   "name": "python3"
  },
  "language_info": {
   "codemirror_mode": {
    "name": "ipython",
    "version": 3
   },
   "file_extension": ".py",
   "mimetype": "text/x-python",
   "name": "python",
   "nbconvert_exporter": "python",
   "pygments_lexer": "ipython3",
   "version": "3.12.2"
  }
 },
 "nbformat": 4,
 "nbformat_minor": 5
}
